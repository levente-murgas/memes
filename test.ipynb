{
 "cells": [
  {
   "cell_type": "code",
   "execution_count": null,
   "metadata": {},
   "outputs": [],
   "source": [
    "import os \n",
    "with open('./unprocessed_files.txt', 'r') as f:\n",
    "    files = f.readlines()\n",
    "    valid_files = []\n",
    "    valid_types = ['.jpg', '.jpeg', '.png']\n",
    "    for file in files:\n",
    "        # get extension of file with os\n",
    "        ext = os.path.splitext(file)[1]\n",
    "        if ext == '.txt':\n",
    "            valid_files.append(file)"
   ]
  },
  {
   "cell_type": "code",
   "execution_count": 1,
   "metadata": {},
   "outputs": [
    {
     "name": "stdout",
     "output_type": "stream",
     "text": [
      "File %CD%A1-%CD%9C%CA%96-%CD%A1-lenny-face_18.png is corrupted\n",
      "File %CD%A1-%CD%9C%CA%96-%CD%A1-lenny-face_2.png is corrupted\n",
      "File %CD%A1-%CD%9C%CA%96-%CD%A1-lenny-face_3.png is corrupted\n",
      "File %CD%A1-%CD%9C%CA%96-%CD%A1-lenny-face_7.png is corrupted\n",
      "File %D0%B1%D1%83%D0%B4%D1%8C-%D0%BC%D1%83%D0%B6%D0%B8%D0%BA%D0%BE%D0%BC-%D0%B1%D0%BB%D0%B5%D0%B0%D1%82%D1%8C-be-a-man-bleat_19.png is corrupted\n"
     ]
    }
   ],
   "source": [
    "import os \n",
    "import shutil\n",
    "import cv2\n",
    "meme_dir = 'D:/Memes2023_splitted_clean'\n",
    "templatesbase = os.listdir(meme_dir)\n",
    "\n",
    "corrupted_files = []\n",
    "for file in templatesbase[:1000]:\n",
    "    # verify if file is not corrupted\n",
    "    try:\n",
    "        img = cv2.imread(meme_dir + '/' + file)\n",
    "        if img is None:\n",
    "            print(f'File {file} is corrupted')\n",
    "            corrupted_files.append(file)\n",
    "    except:\n",
    "        continue"
   ]
  },
  {
   "cell_type": "code",
   "execution_count": 2,
   "metadata": {},
   "outputs": [
    {
     "name": "stdout",
     "output_type": "stream",
     "text": [
      "Removing file %CD%A1-%CD%9C%CA%96-%CD%A1-lenny-face_18.png\n",
      "Removing file %CD%A1-%CD%9C%CA%96-%CD%A1-lenny-face_2.png\n",
      "Removing file %CD%A1-%CD%9C%CA%96-%CD%A1-lenny-face_3.png\n",
      "Removing file %CD%A1-%CD%9C%CA%96-%CD%A1-lenny-face_7.png\n",
      "Removing file %D0%B1%D1%83%D0%B4%D1%8C-%D0%BC%D1%83%D0%B6%D0%B8%D0%BA%D0%BE%D0%BC-%D0%B1%D0%BB%D0%B5%D0%B0%D1%82%D1%8C-be-a-man-bleat_19.png\n"
     ]
    }
   ],
   "source": [
    "for file in corrupted_files:\n",
    "    print(f'Removing file {file}')\n",
    "    os.remove(meme_dir + '/' + file)"
   ]
  },
  {
   "cell_type": "code",
   "execution_count": 3,
   "metadata": {},
   "outputs": [
    {
     "name": "stdout",
     "output_type": "stream",
     "text": [
      "CPU times: total: 78.1 ms\n",
      "Wall time: 154 ms\n"
     ]
    }
   ],
   "source": [
    "%%time"
   ]
  },
  {
   "cell_type": "code",
   "execution_count": 4,
   "metadata": {},
   "outputs": [
    {
     "name": "stdout",
     "output_type": "stream",
     "text": [
      "1\n"
     ]
    }
   ],
   "source": [
    "import cv2\n",
    "\n",
    "# check for cuda\n",
    "print(cv2.cuda.getCudaEnabledDeviceCount())"
   ]
  },
  {
   "cell_type": "code",
   "execution_count": null,
   "metadata": {},
   "outputs": [],
   "source": []
  }
 ],
 "metadata": {
  "kernelspec": {
   "display_name": "Python 3",
   "language": "python",
   "name": "python3"
  },
  "language_info": {
   "codemirror_mode": {
    "name": "ipython",
    "version": 3
   },
   "file_extension": ".py",
   "mimetype": "text/x-python",
   "name": "python",
   "nbconvert_exporter": "python",
   "pygments_lexer": "ipython3",
   "version": "3.9.10"
  }
 },
 "nbformat": 4,
 "nbformat_minor": 2
}
